{
 "cells": [
  {
   "cell_type": "code",
   "execution_count": 160,
   "metadata": {},
   "outputs": [],
   "source": [
    "#Konrad Szwed projekt 0.1\n",
    "\n",
    "#Bibliografia:\n",
    "#https://dzone.com/articles/image-data-analysis-using-numpy-amp-opencv\n"
   ]
  },
  {
   "cell_type": "code",
   "execution_count": 258,
   "metadata": {},
   "outputs": [],
   "source": [
    "import glob\n",
    "import os\n",
    "import numpy as np\n",
    "import imageio\n",
    "import matplotlib.pyplot as plt\n",
    "%matplotlib inline\n",
    "import datetime\n",
    "import csv"
   ]
  },
  {
   "cell_type": "code",
   "execution_count": 259,
   "metadata": {},
   "outputs": [],
   "source": [
    "#ŚCIEŻKI DOSTĘPU\n",
    "#WPISZ SCIEZKE DO FOLDERU W KTORYM ZBADAMY PLIKI GRAFICZNE (zostaw to r''' i ''' na końcu)\n",
    "#domyślnie: \\Users\\rooni\\Desktop\\projekt_analiza_obrazu\\baza\n",
    "#########################################################################\n",
    "user_path=r'''C:\\Users\\rooni\\Desktop\\PHOTOSHOP'''\n",
    "#########################################################################\n",
    "stats_path=r'''C:\\Users\\rooni\\Desktop\\projekt_analiza_obrazu\\stats'''"
   ]
  },
  {
   "cell_type": "code",
   "execution_count": 260,
   "metadata": {},
   "outputs": [
    {
     "name": "stdout",
     "output_type": "stream",
     "text": [
      "W folderze jest : 67 plikow\n",
      "W tym : 29 plików jpg\n"
     ]
    }
   ],
   "source": [
    "#pobieranie stricte obrazow z folderu\n",
    "path, dirs, files = next(os.walk(user_path))\n",
    "\n",
    "print(\"W folderze jest :\", len(files) ,\"plikow\")\n",
    "files = [ fi for fi in files if fi.endswith(\".jpg\") ]\n",
    "file_count = len(files)\n",
    "print(\"W tym :\", len(files) ,\"plików jpg\")"
   ]
  },
  {
   "cell_type": "code",
   "execution_count": 267,
   "metadata": {},
   "outputs": [],
   "source": [
    "def imgstats(file):\n",
    "    pic = imageio.imread(file)\n",
    "    img_stats=[]\n",
    "    global i\n",
    "    img_stats.append(i)\n",
    "    img_stats.append(file)\n",
    "    img_stats.append(type(pic))\n",
    "    img_stats.append(pic.shape[0])\n",
    "    img_stats.append(pic.shape[1])\n",
    "    img_stats.append(pic.ndim)\n",
    "    img_stats.append(pic.size)\n",
    "    img_stats.append(pic.max())\n",
    "    img_stats.append(pic.min())\n",
    "    img_stats.append(pic[ 100, 50, 0])\n",
    "    img_stats.append(pic[ 100, 50, 1])\n",
    "    img_stats.append(pic[ 100, 50, 2])\n",
    "    return img_stats"
   ]
  },
  {
   "cell_type": "code",
   "execution_count": 268,
   "metadata": {},
   "outputs": [],
   "source": [
    "Titles=['Index','File name','Type of the image','Image Height','Image Width','Dimension of Image','Image size','Maximum RGB','Minimum RGB','R channel','G channel','B channel','Baza wygenerowana przez Konrad Szwed dnia {} | Zawiera {} elementow'.format(datetime.datetime.today(),file_count)]"
   ]
  },
  {
   "cell_type": "code",
   "execution_count": 275,
   "metadata": {},
   "outputs": [],
   "source": [
    "#Sprawdzenie poprzedniego pliku ze statystykami\n",
    "#path_oldstat='./stats/'\n",
    "path_oldstat=stats_path\n",
    "if os.path.isfile(path_oldstat+'stats.csv') :\n",
    "    if os.path.isfile(path_oldstat+'old_stats.csv') :    \n",
    "        os.unlink(path_oldstat+'old_stats.csv')\n",
    "    os.rename(path_oldstat+'stats.csv', path_oldstat+'old_stats.csv')\n",
    "    print('Utworzono backup poprzedniej bazy danych w folderze {},pod nazwą {}'.format(path_oldstat, os.listdir(path_oldstat)))\n",
    "    \n",
    "#Tworzenie csv\n",
    "with open(stats_path+'\\stats.csv', 'w') as csvfile:\n",
    "    filewriter = csv.writer(csvfile, delimiter=',',\n",
    "                            quotechar=' ', quoting=csv.QUOTE_MINIMAL)\n",
    "    filewriter.writerow(Titles)\n",
    "    #file_count ale do testow ustawcie mniejsza liczbe\n",
    "    for i in range(file_count):\n",
    "        file=user_path+'\\{}'.format(files[i])\n",
    "        filewriter.writerow(imgstats(file))\n",
    "        \n",
    "#print(imgstats('baza\\{}'.format(files[0])))"
   ]
  },
  {
   "cell_type": "code",
   "execution_count": 323,
   "metadata": {},
   "outputs": [],
   "source": [
    "def srednia(stats):\n",
    "    return('Image Height:{}\\n Image Width:{}\\n Dimension of Image:{}\\n Image size:{}\\n Maximum RGB:{}\\n Minimum RGB:{}\\n R channel:{}\\n G channel:{}\\n B channel:{}'.format(stats[0],stats[1],stats[2],stats[3],stats[4],stats[5],stats[6],stats[7],stats[8]))"
   ]
  },
  {
   "cell_type": "code",
   "execution_count": 324,
   "metadata": {},
   "outputs": [
    {
     "name": "stdout",
     "output_type": "stream",
     "text": [
      "Wyniki średnie:\n",
      "Image Height:1641.0344827586207\n",
      " Image Width:1508.5172413793102\n",
      " Dimension of Image:3.0\n",
      " Image size:11015728.75862069\n",
      " Maximum RGB:252.44827586206895\n",
      " Minimum RGB:1.3793103448275863\n",
      " R channel:117.62068965517241\n",
      " G channel:111.51724137931035\n",
      " B channel:102.65517241379311\n"
     ]
    }
   ],
   "source": [
    "#Statystyki uśrednione\n",
    "stats=[]\n",
    "for i in range(9):\n",
    "    stats.append(0)\n",
    "for i in range(file_count):\n",
    "    file=user_path+'\\{}'.format(files[i])\n",
    "    stats2=imgstats(file)  \n",
    "    for n in range(9):\n",
    "        stats[n]+=stats2[n+3]\n",
    "        \n",
    "for i in range(9):\n",
    "    stats[i]=stats[i]/file_count\n",
    "    \n",
    "print(\"Wyniki średnie:\")    \n",
    "print(srednia(stats))\n"
   ]
  },
  {
   "cell_type": "code",
   "execution_count": null,
   "metadata": {},
   "outputs": [],
   "source": []
  }
 ],
 "metadata": {
  "kernelspec": {
   "display_name": "Python 3",
   "language": "python",
   "name": "python3"
  },
  "language_info": {
   "codemirror_mode": {
    "name": "ipython",
    "version": 3
   },
   "file_extension": ".py",
   "mimetype": "text/x-python",
   "name": "python",
   "nbconvert_exporter": "python",
   "pygments_lexer": "ipython3",
   "version": "3.7.1"
  }
 },
 "nbformat": 4,
 "nbformat_minor": 2
}
