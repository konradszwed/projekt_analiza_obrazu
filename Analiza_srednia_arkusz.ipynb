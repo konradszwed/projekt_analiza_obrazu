{
 "cells": [
  {
   "cell_type": "code",
   "execution_count": 53,
   "metadata": {},
   "outputs": [],
   "source": [
    "#Konrad Szwed projekt 0.1\n",
    "\n",
    "#Bibliografia:\n",
    "#https://dzone.com/articles/image-data-analysis-using-numpy-amp-opencv\n"
   ]
  },
  {
   "cell_type": "code",
   "execution_count": 54,
   "metadata": {},
   "outputs": [],
   "source": [
    "import glob\n",
    "import os\n",
    "import numpy as np\n",
    "import imageio\n",
    "import matplotlib.pyplot as plt\n",
    "%matplotlib inline\n",
    "import datetime\n",
    "import csv\n",
    "import timeit"
   ]
  },
  {
   "cell_type": "code",
   "execution_count": 55,
   "metadata": {},
   "outputs": [],
   "source": [
    "from time import perf_counter\n",
    "from functools import wraps\n",
    "def mierz_czas(f):\n",
    "    @wraps(f)\n",
    "    def opakowanie(*args, **kwargs):\n",
    "        #print('Czas wykonywania ', f.__name__, ' = ')\n",
    "        start = perf_counter()\n",
    "        stop = perf_counter()\n",
    "        opakowanie.czas=stop-start\n",
    "        return f(*args, **kwargs)\n",
    "    return opakowanie"
   ]
  },
  {
   "cell_type": "code",
   "execution_count": 84,
   "metadata": {},
   "outputs": [],
   "source": [
    "#ŚCIEŻKI DOSTĘPU\n",
    "#WPISZ SCIEZKE DO FOLDERU W KTORYM ZBADAMY PLIKI GRAFICZNE (zostaw to r''' i ''' na końcu)\n",
    "#domyślnie: \\Users\\rooni\\Desktop\\projekt_analiza_obrazu\\baza\n",
    "#########################################################################\n",
    "user_path=r'''C:\\Users\\rooni\\Desktop\\PHOTOSHOP'''\n",
    "#user_path=r'''D:\\Lelz'''\n",
    "\n",
    "#########################################################################\n",
    "stats_path=r'''C:\\Users\\rooni\\Desktop\\projekt_analiza_obrazu\\stats'''\n",
    "#stats_path=r'''C:\\Users\\KSzwed\\repositories\\projekt_analiza_obrazu\\stats'''"
   ]
  },
  {
   "cell_type": "code",
   "execution_count": 85,
   "metadata": {},
   "outputs": [
    {
     "name": "stdout",
     "output_type": "stream",
     "text": [
      "W folderze jest : 72 plikow\n",
      "W tym : 34 plików jpg\n"
     ]
    }
   ],
   "source": [
    "#pobieranie stricte obrazow z folderu\n",
    "path, dirs, files = next(os.walk(user_path))\n",
    "\n",
    "print(\"W folderze jest :\", len(files) ,\"plikow\")\n",
    "files = [ fi for fi in files if fi.endswith(\".jpg\") ]\n",
    "file_count = len(files)\n",
    "print(\"W tym :\", len(files) ,\"plików jpg\")"
   ]
  },
  {
   "cell_type": "code",
   "execution_count": 86,
   "metadata": {},
   "outputs": [],
   "source": [
    "#test konkretnego pliku\n",
    "get_ipython().run_line_magic('matplotlib', 'inline')\n",
    "@mierz_czas\n",
    "def test_img(file):\n",
    "    pic = imageio.imread(file)\n",
    "    plt.figure(figsize = (15,15))\n",
    "    plt.imshow(pic)\n",
    "\n",
    "    print('Type of the image: ' , type(pic))\n",
    "    print('Shape of the image: {}'.format(pic.shape))\n",
    "    print(f'Image Hight: {pic.shape[0]} pixels')\n",
    "    print(f'Image Width: {pic.shape[1]} pixels')\n",
    "    print('Dimension of Image: {}'.format(pic.ndim))\n",
    "    print('Image size: {}'.format(pic.size))\n",
    "    print('Maximum RGB value in this image: {}'.format(pic.max()))\n",
    "    print('Minimum RGB value in this image: {}'.format(pic.min()))\n",
    "    try:\n",
    "        print('Value of only R channel: {}'.format(pic[ 100, 50, 0]))\n",
    "        print('Value of only G channel: {}'.format(pic[ 100, 50, 1]))\n",
    "        print('Value of only B channel: {}'.format(pic[ 100, 50, 2]))\n",
    "    except IndexError:\n",
    "        print(\"RGB canals error\")"
   ]
  },
  {
   "cell_type": "code",
   "execution_count": 87,
   "metadata": {},
   "outputs": [],
   "source": [
    "@mierz_czas\n",
    "def imgstats(file):\n",
    "    pic = imageio.imread(file)\n",
    "    img_stats=[]\n",
    "    global i\n",
    "    img_stats.append(i)\n",
    "    img_stats.append(file)\n",
    "    img_stats.append(type(pic))\n",
    "    img_stats.append(pic.shape[0])\n",
    "    img_stats.append(pic.shape[1])\n",
    "    img_stats.append(pic.ndim)\n",
    "    img_stats.append(pic.size)\n",
    "    img_stats.append(pic.max())\n",
    "    img_stats.append(pic.min())\n",
    "    try:\n",
    "        img_stats.append(pic[100, 50, 0])\n",
    "        img_stats.append(pic[ 100, 50, 1])\n",
    "        img_stats.append(pic[ 100, 50, 2])\n",
    "    except IndexError:\n",
    "        img_stats.append(0)\n",
    "        img_stats.append(0)\n",
    "        img_stats.append(0)\n",
    "    return img_stats"
   ]
  },
  {
   "cell_type": "code",
   "execution_count": 88,
   "metadata": {},
   "outputs": [],
   "source": [
    "Titles=['Index','File name','Type of the image','Image Height','Image Width','Dimension of Image','Image size','Maximum RGB','Minimum RGB','R channel','G channel','B channel','Baza wygenerowana przez Konrad Szwed dnia {} | Zawiera {} elementow'.format(datetime.datetime.today(),file_count)]"
   ]
  },
  {
   "cell_type": "code",
   "execution_count": 89,
   "metadata": {},
   "outputs": [],
   "source": [
    "#test w razie problemow z konkretnym plikiem\n",
    "#file=user_path+'\\{}'.format(files[10])\n",
    "#test_img(file)"
   ]
  },
  {
   "cell_type": "code",
   "execution_count": 90,
   "metadata": {},
   "outputs": [],
   "source": [
    "#Sprawdzenie poprzedniego pliku ze statystykami\n",
    "#path_oldstat='./stats/'\n",
    "path_oldstat=stats_path\n",
    "if os.path.isfile(path_oldstat+'stats.csv') :\n",
    "    if os.path.isfile(path_oldstat+'old_stats.csv') :    \n",
    "        os.unlink(path_oldstat+'old_stats.csv')\n",
    "    os.rename(path_oldstat+'stats.csv', path_oldstat+'old_stats.csv')\n",
    "    print('Utworzono backup poprzedniej bazy danych w folderze {},pod nazwą {}'.format(path_oldstat, os.listdir(path_oldstat)))\n",
    "    \n",
    "#Tworzenie csv\n",
    "with open(stats_path+'\\stats.csv', 'w') as csvfile:\n",
    "    filewriter = csv.writer(csvfile, delimiter=',',\n",
    "                            quotechar=' ', quoting=csv.QUOTE_MINIMAL)\n",
    "    filewriter.writerow(Titles)\n",
    "    #file_count ale do testow ustawcie mniejsza liczbe\n",
    "    for i in range(file_count):\n",
    "        file=user_path+'\\{}'.format(files[i])\n",
    "        filewriter.writerow(imgstats(file))\n",
    "        \n",
    "#print(imgstats('baza\\{}'.format(files[0])))"
   ]
  },
  {
   "cell_type": "code",
   "execution_count": 91,
   "metadata": {},
   "outputs": [],
   "source": [
    "def wyswietl(stats):\n",
    "    return('Image Height:{:.2f}\\n Image Width:{:.2f}\\n Dimension of Image:{:.2f}\\n Image size:{:.2f}Mb\\n Maximum RGB:{:.2f}\\n Minimum RGB:{:.2f}\\n R channel:{:.2f}\\n G channel:{:.2f}\\n B channel:{:.2f}'.format(stats[0],stats[1],stats[2],stats[3]*pow(10,-6),stats[4],stats[5],stats[6],stats[7],stats[8]))"
   ]
  },
  {
   "cell_type": "code",
   "execution_count": 92,
   "metadata": {},
   "outputs": [],
   "source": [
    "#dokonczyc srednia\n",
    "def srednia(stats):\n",
    "    avg=[]\n",
    "    suma=0\n",
    "    for i in stats:\n",
    "        suma+=i[]\n",
    "    return avg"
   ]
  },
  {
   "cell_type": "code",
   "execution_count": 93,
   "metadata": {},
   "outputs": [
    {
     "name": "stdout",
     "output_type": "stream",
     "text": [
      "[[0, 'C:\\\\Users\\\\rooni\\\\Desktop\\\\PHOTOSHOP\\\\1527348067543.jpg', <class 'imageio.core.util.Array'>, 480, 351, 3, 505440, 255, 0, 156, 156, 156], [1, 'C:\\\\Users\\\\rooni\\\\Desktop\\\\PHOTOSHOP\\\\1536528077791.jpg', <class 'imageio.core.util.Array'>, 320, 180, 3, 172800, 255, 0, 254, 254, 254], [2, 'C:\\\\Users\\\\rooni\\\\Desktop\\\\PHOTOSHOP\\\\1536955571821.jpg', <class 'imageio.core.util.Array'>, 390, 293, 3, 342810, 255, 0, 151, 166, 185], [3, 'C:\\\\Users\\\\rooni\\\\Desktop\\\\PHOTOSHOP\\\\1537042188146.jpg', <class 'imageio.core.util.Array'>, 320, 180, 3, 172800, 255, 0, 60, 62, 61], [4, 'C:\\\\Users\\\\rooni\\\\Desktop\\\\PHOTOSHOP\\\\20626312_1660294517348787_6425678879563334507_o.jpg', <class 'imageio.core.util.Array'>, 2048, 1536, 3, 9437184, 255, 0, 233, 231, 244], [5, 'C:\\\\Users\\\\rooni\\\\Desktop\\\\PHOTOSHOP\\\\25734018_1790495350985084_8251639220813796590_o.jpg', <class 'imageio.core.util.Array'>, 1080, 1440, 3, 4665600, 255, 0, 221, 174, 118], [6, 'C:\\\\Users\\\\rooni\\\\Desktop\\\\PHOTOSHOP\\\\31950079_10209467206037046_8016431865277710336_n.jpg', <class 'imageio.core.util.Array'>, 1920, 1016, 3, 5852160, 255, 1, 255, 255, 255], [7, 'C:\\\\Users\\\\rooni\\\\Desktop\\\\PHOTOSHOP\\\\39589221_211326699742097_8898793335297146880_n.jpg', <class 'imageio.core.util.Array'>, 4000, 2992, 3, 35904000, 255, 0, 47, 59, 39], [8, 'C:\\\\Users\\\\rooni\\\\Desktop\\\\PHOTOSHOP\\\\396580_299755993399334_1081939957_n.jpg', <class 'imageio.core.util.Array'>, 720, 960, 3, 2073600, 209, 5, 137, 133, 158], [9, 'C:\\\\Users\\\\rooni\\\\Desktop\\\\PHOTOSHOP\\\\48389652_195225744662417_1066618921387294720_n.jpg', <class 'imageio.core.util.Array'>, 2048, 1536, 3, 9437184, 255, 0, 92, 88, 89], [10, 'C:\\\\Users\\\\rooni\\\\Desktop\\\\PHOTOSHOP\\\\49164639_909606509429066_1144639725328400384_n.jpg', <class 'imageio.core.util.Array'>, 3968, 2976, 3, 35426304, 255, 0, 58, 38, 40], [11, 'C:\\\\Users\\\\rooni\\\\Desktop\\\\PHOTOSHOP\\\\49439940_334460074074210_8118255631376318464_n.jpg', <class 'imageio.core.util.Array'>, 922, 540, 3, 1493640, 227, 0, 128, 127, 106], [12, 'C:\\\\Users\\\\rooni\\\\Desktop\\\\PHOTOSHOP\\\\49741333_1702566669847407_9158012800797245440_o.jpg', <class 'imageio.core.util.Array'>, 1920, 1080, 3, 6220800, 255, 0, 106, 84, 47], [13, 'C:\\\\Users\\\\rooni\\\\Desktop\\\\PHOTOSHOP\\\\54798014_2369647116598191_8606183449713180672_n.jpg', <class 'imageio.core.util.Array'>, 960, 708, 3, 2039040, 255, 0, 247, 246, 242], [14, 'C:\\\\Users\\\\rooni\\\\Desktop\\\\PHOTOSHOP\\\\57066135_2262813133966958_7264667117935394816_n.jpg', <class 'imageio.core.util.Array'>, 422, 475, 3, 601350, 255, 0, 227, 234, 242], [15, 'C:\\\\Users\\\\rooni\\\\Desktop\\\\PHOTOSHOP\\\\9a241djbqaf21.jpg', <class 'imageio.core.util.Array'>, 315, 420, 3, 396900, 255, 0, 3, 1, 2], [16, 'C:\\\\Users\\\\rooni\\\\Desktop\\\\PHOTOSHOP\\\\aniki.jpg', <class 'imageio.core.util.Array'>, 768, 576, 3, 1327104, 255, 0, 249, 251, 240], [17, 'C:\\\\Users\\\\rooni\\\\Desktop\\\\PHOTOSHOP\\\\FB_IMG_1527501971589.jpg', <class 'imageio.core.util.Array'>, 200, 195, 3, 117000, 255, 25, 201, 122, 115], [18, 'C:\\\\Users\\\\rooni\\\\Desktop\\\\PHOTOSHOP\\\\gachimuchi-wallpaper-9.jpg', <class 'imageio.core.util.Array'>, 1080, 1920, 3, 6220800, 255, 0, 1, 1, 1], [19, 'C:\\\\Users\\\\rooni\\\\Desktop\\\\PHOTOSHOP\\\\im so template.jpg', <class 'imageio.core.util.Array'>, 671, 470, 3, 946110, 255, 0, 169, 169, 169], [20, 'C:\\\\Users\\\\rooni\\\\Desktop\\\\PHOTOSHOP\\\\imbatman.jpg', <class 'imageio.core.util.Array'>, 671, 470, 3, 946110, 255, 0, 169, 169, 169], [21, 'C:\\\\Users\\\\rooni\\\\Desktop\\\\PHOTOSHOP\\\\IMG_20170617_024356_1CS.jpg', <class 'imageio.core.util.Array'>, 4160, 3120, 3, 38937600, 255, 0, 9, 0, 1], [22, 'C:\\\\Users\\\\rooni\\\\Desktop\\\\PHOTOSHOP\\\\IMG_20180429_034130.jpg', <class 'imageio.core.util.Array'>, 3120, 4160, 3, 38937600, 255, 0, 17, 2, 7], [23, 'C:\\\\Users\\\\rooni\\\\Desktop\\\\PHOTOSHOP\\\\IMG_20180429_225308.jpg', <class 'imageio.core.util.Array'>, 2592, 1944, 3, 15116544, 255, 9, 54, 45, 38], [24, 'C:\\\\Users\\\\rooni\\\\Desktop\\\\PHOTOSHOP\\\\IMG_20180610_084235.jpg', <class 'imageio.core.util.Array'>, 4160, 3120, 3, 38937600, 255, 0, 106, 115, 84], [25, 'C:\\\\Users\\\\rooni\\\\Desktop\\\\PHOTOSHOP\\\\IMG_20190421_155317.jpg', <class 'imageio.core.util.Array'>, 4160, 3120, 3, 38937600, 255, 0, 80, 84, 70], [26, 'C:\\\\Users\\\\rooni\\\\Desktop\\\\PHOTOSHOP\\\\konradszwed11@gmail.com.jpg', <class 'imageio.core.util.Array'>, 1200, 802, 3, 2887200, 255, 0, 240, 244, 255], [27, 'C:\\\\Users\\\\rooni\\\\Desktop\\\\PHOTOSHOP\\\\maxresdefault.jpg', <class 'imageio.core.util.Array'>, 720, 1280, 3, 2764800, 255, 0, 250, 241, 120], [28, 'C:\\\\Users\\\\rooni\\\\Desktop\\\\PHOTOSHOP\\\\retardy.jpg', <class 'imageio.core.util.Array'>, 1080, 1920, 3, 6220800, 255, 0, 4, 4, 4], [29, 'C:\\\\Users\\\\rooni\\\\Desktop\\\\PHOTOSHOP\\\\retardy2.jpg', <class 'imageio.core.util.Array'>, 1080, 1920, 3, 6220800, 255, 0, 3, 3, 3], [30, 'C:\\\\Users\\\\rooni\\\\Desktop\\\\PHOTOSHOP\\\\retardy3.jpg', <class 'imageio.core.util.Array'>, 1080, 1920, 3, 6220800, 255, 0, 3, 3, 3], [31, 'C:\\\\Users\\\\rooni\\\\Desktop\\\\PHOTOSHOP\\\\Snapchat-1380669513.jpg', <class 'imageio.core.util.Array'>, 1280, 720, 3, 2764800, 255, 0, 24, 19, 23], [32, 'C:\\\\Users\\\\rooni\\\\Desktop\\\\PHOTOSHOP\\\\Sylwek.jpg', <class 'imageio.core.util.Array'>, 4032, 3024, 3, 36578304, 255, 0, 27, 32, 25], [33, 'C:\\\\Users\\\\rooni\\\\Desktop\\\\PHOTOSHOP\\\\tlo.jpg', <class 'imageio.core.util.Array'>, 1080, 1920, 3, 6220800, 255, 0, 4, 4, 4]]\n"
     ]
    }
   ],
   "source": [
    "#tworzymy dane\n",
    "dane=[]\n",
    "for i in range(file_count):\n",
    "    file=user_path+'\\{}'.format(files[i])\n",
    "    dane.append(imgstats(file))\n",
    "#print(dane)"
   ]
  },
  {
   "cell_type": "code",
   "execution_count": 124,
   "metadata": {},
   "outputs": [
    {
     "name": "stdout",
     "output_type": "stream",
     "text": [
      "Wyniki średnie:\n",
      "Image Height:1616.68\n",
      " Image Width:1449.53\n",
      " Dimension of Image:3.00\n",
      " Image size:10.74Mb\n",
      " Maximum RGB:252.82\n",
      " Minimum RGB:1.18\n",
      " R channel:117.21\n",
      " G channel:112.24\n",
      " B channel:104.97\n"
     ]
    }
   ],
   "source": [
    "#Statystyki uśrednione\n",
    "avg=[0,0,0,0,0,0,0,0,0]\n",
    "\n",
    "for i in range(0,len(dane)):\n",
    "    for x in range(3,12):\n",
    "        #print(dane[i][x])\n",
    "        avg[x-3]+=dane[i][x]\n",
    "for i in range(0,len(avg)):\n",
    "    avg[i]=avg[i]/len(dane)\n",
    "\n",
    "#print (avg)\n",
    "#for i in range(9):\n",
    "#    stats[i]=stats[i]/file_count\n",
    "#print(stats)    \n",
    "print(\"Wyniki średnie:\")    \n",
    "print(wyswietl(avg))\n"
   ]
  },
  {
   "cell_type": "code",
   "execution_count": null,
   "metadata": {},
   "outputs": [],
   "source": []
  },
  {
   "cell_type": "code",
   "execution_count": 123,
   "metadata": {},
   "outputs": [
    {
     "name": "stdout",
     "output_type": "stream",
     "text": [
      "wykres średnia z RGB channels\n"
     ]
    },
    {
     "data": {
      "image/png": "[encoded data removed]",
      "text/plain": [
       "<Figure size 432x288 with 1 Axes>"
      ]
     },
     "metadata": {
      "needs_background": "light"
     },
     "output_type": "display_data"
    }
   ],
   "source": [
    "#wykresy\n",
    "print(\"wykres średnia z RGB channels\")\n",
    "y = [avg[6],avg[7],avg[8]]\n",
    "plt.plot(y)\n",
    "plt.show()\n"
   ]
  },
  {
   "cell_type": "code",
   "execution_count": 38,
   "metadata": {},
   "outputs": [
    {
     "name": "stdout",
     "output_type": "stream",
     "text": [
      "Czasy poszczególnych funkcji:\n",
      "srednia : \n",
      "imgstats : \n",
      "test_img : \n"
     ]
    }
   ],
   "source": [
    "#Czasy funkcji\n",
    "print(\"Czasy poszczególnych funkcji:\")\n",
    "funkcje = [srednia,imgstats,test_img]\n",
    "for i in funkcje:\n",
    "    #print(\"{} : {}\".format(i.__name__,i.czas))\n",
    "    print(\"{} : \".format(i.__name__))"
   ]
  },
  {
   "cell_type": "code",
   "execution_count": 133,
   "metadata": {},
   "outputs": [
    {
     "ename": "ValueError",
     "evalue": "x and y must have same first dimension, but have shapes (256,) and (34,)",
     "output_type": "error",
     "traceback": [
      "\u001b[1;31m---------------------------------------------------------------------------\u001b[0m",
      "\u001b[1;31mValueError\u001b[0m                                Traceback (most recent call last)",
      "\u001b[1;32m<ipython-input-133-b7d16599d42f>\u001b[0m in \u001b[0;36m<module>\u001b[1;34m\u001b[0m\n\u001b[0;32m     12\u001b[0m \u001b[0max1\u001b[0m\u001b[1;33m.\u001b[0m\u001b[0mset_xlabel\u001b[0m\u001b[1;33m(\u001b[0m\u001b[1;34m'lata'\u001b[0m\u001b[1;33m)\u001b[0m\u001b[1;33m\u001b[0m\u001b[1;33m\u001b[0m\u001b[0m\n\u001b[0;32m     13\u001b[0m \u001b[0max1\u001b[0m\u001b[1;33m.\u001b[0m\u001b[0mset_ylabel\u001b[0m\u001b[1;33m(\u001b[0m\u001b[1;34m'ilosc kin'\u001b[0m\u001b[1;33m,\u001b[0m \u001b[0mcolor\u001b[0m\u001b[1;33m=\u001b[0m\u001b[0mcolor\u001b[0m\u001b[1;33m)\u001b[0m\u001b[1;33m\u001b[0m\u001b[1;33m\u001b[0m\u001b[0m\n\u001b[1;32m---> 14\u001b[1;33m \u001b[0max1\u001b[0m\u001b[1;33m.\u001b[0m\u001b[0mplot\u001b[0m\u001b[1;33m(\u001b[0m\u001b[0mt\u001b[0m\u001b[1;33m,\u001b[0m \u001b[0mdata1\u001b[0m\u001b[1;33m,\u001b[0m \u001b[0mcolor\u001b[0m\u001b[1;33m=\u001b[0m\u001b[0mcolor\u001b[0m\u001b[1;33m)\u001b[0m\u001b[1;33m\u001b[0m\u001b[1;33m\u001b[0m\u001b[0m\n\u001b[0m\u001b[0;32m     15\u001b[0m \u001b[0max1\u001b[0m\u001b[1;33m.\u001b[0m\u001b[0mtick_params\u001b[0m\u001b[1;33m(\u001b[0m\u001b[0maxis\u001b[0m\u001b[1;33m=\u001b[0m\u001b[1;34m'y'\u001b[0m\u001b[1;33m,\u001b[0m \u001b[0mlabelcolor\u001b[0m\u001b[1;33m=\u001b[0m\u001b[0mcolor\u001b[0m\u001b[1;33m)\u001b[0m\u001b[1;33m\u001b[0m\u001b[1;33m\u001b[0m\u001b[0m\n\u001b[0;32m     16\u001b[0m \u001b[1;33m\u001b[0m\u001b[0m\n",
      "\u001b[1;32mC:\\ProgramData\\Anaconda3\\lib\\site-packages\\matplotlib\\__init__.py\u001b[0m in \u001b[0;36minner\u001b[1;34m(ax, data, *args, **kwargs)\u001b[0m\n\u001b[0;32m   1808\u001b[0m                         \u001b[1;34m\"the Matplotlib list!)\"\u001b[0m \u001b[1;33m%\u001b[0m \u001b[1;33m(\u001b[0m\u001b[0mlabel_namer\u001b[0m\u001b[1;33m,\u001b[0m \u001b[0mfunc\u001b[0m\u001b[1;33m.\u001b[0m\u001b[0m__name__\u001b[0m\u001b[1;33m)\u001b[0m\u001b[1;33m,\u001b[0m\u001b[1;33m\u001b[0m\u001b[1;33m\u001b[0m\u001b[0m\n\u001b[0;32m   1809\u001b[0m                         RuntimeWarning, stacklevel=2)\n\u001b[1;32m-> 1810\u001b[1;33m             \u001b[1;32mreturn\u001b[0m \u001b[0mfunc\u001b[0m\u001b[1;33m(\u001b[0m\u001b[0max\u001b[0m\u001b[1;33m,\u001b[0m \u001b[1;33m*\u001b[0m\u001b[0margs\u001b[0m\u001b[1;33m,\u001b[0m \u001b[1;33m**\u001b[0m\u001b[0mkwargs\u001b[0m\u001b[1;33m)\u001b[0m\u001b[1;33m\u001b[0m\u001b[1;33m\u001b[0m\u001b[0m\n\u001b[0m\u001b[0;32m   1811\u001b[0m \u001b[1;33m\u001b[0m\u001b[0m\n\u001b[0;32m   1812\u001b[0m         inner.__doc__ = _add_data_doc(inner.__doc__,\n",
      "\u001b[1;32mC:\\ProgramData\\Anaconda3\\lib\\site-packages\\matplotlib\\axes\\_axes.py\u001b[0m in \u001b[0;36mplot\u001b[1;34m(self, scalex, scaley, *args, **kwargs)\u001b[0m\n\u001b[0;32m   1609\u001b[0m         \u001b[0mkwargs\u001b[0m \u001b[1;33m=\u001b[0m \u001b[0mcbook\u001b[0m\u001b[1;33m.\u001b[0m\u001b[0mnormalize_kwargs\u001b[0m\u001b[1;33m(\u001b[0m\u001b[0mkwargs\u001b[0m\u001b[1;33m,\u001b[0m \u001b[0mmlines\u001b[0m\u001b[1;33m.\u001b[0m\u001b[0mLine2D\u001b[0m\u001b[1;33m.\u001b[0m\u001b[0m_alias_map\u001b[0m\u001b[1;33m)\u001b[0m\u001b[1;33m\u001b[0m\u001b[1;33m\u001b[0m\u001b[0m\n\u001b[0;32m   1610\u001b[0m \u001b[1;33m\u001b[0m\u001b[0m\n\u001b[1;32m-> 1611\u001b[1;33m         \u001b[1;32mfor\u001b[0m \u001b[0mline\u001b[0m \u001b[1;32min\u001b[0m \u001b[0mself\u001b[0m\u001b[1;33m.\u001b[0m\u001b[0m_get_lines\u001b[0m\u001b[1;33m(\u001b[0m\u001b[1;33m*\u001b[0m\u001b[0margs\u001b[0m\u001b[1;33m,\u001b[0m \u001b[1;33m**\u001b[0m\u001b[0mkwargs\u001b[0m\u001b[1;33m)\u001b[0m\u001b[1;33m:\u001b[0m\u001b[1;33m\u001b[0m\u001b[1;33m\u001b[0m\u001b[0m\n\u001b[0m\u001b[0;32m   1612\u001b[0m             \u001b[0mself\u001b[0m\u001b[1;33m.\u001b[0m\u001b[0madd_line\u001b[0m\u001b[1;33m(\u001b[0m\u001b[0mline\u001b[0m\u001b[1;33m)\u001b[0m\u001b[1;33m\u001b[0m\u001b[1;33m\u001b[0m\u001b[0m\n\u001b[0;32m   1613\u001b[0m             \u001b[0mlines\u001b[0m\u001b[1;33m.\u001b[0m\u001b[0mappend\u001b[0m\u001b[1;33m(\u001b[0m\u001b[0mline\u001b[0m\u001b[1;33m)\u001b[0m\u001b[1;33m\u001b[0m\u001b[1;33m\u001b[0m\u001b[0m\n",
      "\u001b[1;32mC:\\ProgramData\\Anaconda3\\lib\\site-packages\\matplotlib\\axes\\_base.py\u001b[0m in \u001b[0;36m_grab_next_args\u001b[1;34m(self, *args, **kwargs)\u001b[0m\n\u001b[0;32m    391\u001b[0m                 \u001b[0mthis\u001b[0m \u001b[1;33m+=\u001b[0m \u001b[0margs\u001b[0m\u001b[1;33m[\u001b[0m\u001b[1;36m0\u001b[0m\u001b[1;33m]\u001b[0m\u001b[1;33m,\u001b[0m\u001b[1;33m\u001b[0m\u001b[1;33m\u001b[0m\u001b[0m\n\u001b[0;32m    392\u001b[0m                 \u001b[0margs\u001b[0m \u001b[1;33m=\u001b[0m \u001b[0margs\u001b[0m\u001b[1;33m[\u001b[0m\u001b[1;36m1\u001b[0m\u001b[1;33m:\u001b[0m\u001b[1;33m]\u001b[0m\u001b[1;33m\u001b[0m\u001b[1;33m\u001b[0m\u001b[0m\n\u001b[1;32m--> 393\u001b[1;33m             \u001b[1;32myield\u001b[0m \u001b[1;32mfrom\u001b[0m \u001b[0mself\u001b[0m\u001b[1;33m.\u001b[0m\u001b[0m_plot_args\u001b[0m\u001b[1;33m(\u001b[0m\u001b[0mthis\u001b[0m\u001b[1;33m,\u001b[0m \u001b[0mkwargs\u001b[0m\u001b[1;33m)\u001b[0m\u001b[1;33m\u001b[0m\u001b[1;33m\u001b[0m\u001b[0m\n\u001b[0m\u001b[0;32m    394\u001b[0m \u001b[1;33m\u001b[0m\u001b[0m\n\u001b[0;32m    395\u001b[0m \u001b[1;33m\u001b[0m\u001b[0m\n",
      "\u001b[1;32mC:\\ProgramData\\Anaconda3\\lib\\site-packages\\matplotlib\\axes\\_base.py\u001b[0m in \u001b[0;36m_plot_args\u001b[1;34m(self, tup, kwargs)\u001b[0m\n\u001b[0;32m    368\u001b[0m             \u001b[0mx\u001b[0m\u001b[1;33m,\u001b[0m \u001b[0my\u001b[0m \u001b[1;33m=\u001b[0m \u001b[0mindex_of\u001b[0m\u001b[1;33m(\u001b[0m\u001b[0mtup\u001b[0m\u001b[1;33m[\u001b[0m\u001b[1;33m-\u001b[0m\u001b[1;36m1\u001b[0m\u001b[1;33m]\u001b[0m\u001b[1;33m)\u001b[0m\u001b[1;33m\u001b[0m\u001b[1;33m\u001b[0m\u001b[0m\n\u001b[0;32m    369\u001b[0m \u001b[1;33m\u001b[0m\u001b[0m\n\u001b[1;32m--> 370\u001b[1;33m         \u001b[0mx\u001b[0m\u001b[1;33m,\u001b[0m \u001b[0my\u001b[0m \u001b[1;33m=\u001b[0m \u001b[0mself\u001b[0m\u001b[1;33m.\u001b[0m\u001b[0m_xy_from_xy\u001b[0m\u001b[1;33m(\u001b[0m\u001b[0mx\u001b[0m\u001b[1;33m,\u001b[0m \u001b[0my\u001b[0m\u001b[1;33m)\u001b[0m\u001b[1;33m\u001b[0m\u001b[1;33m\u001b[0m\u001b[0m\n\u001b[0m\u001b[0;32m    371\u001b[0m \u001b[1;33m\u001b[0m\u001b[0m\n\u001b[0;32m    372\u001b[0m         \u001b[1;32mif\u001b[0m \u001b[0mself\u001b[0m\u001b[1;33m.\u001b[0m\u001b[0mcommand\u001b[0m \u001b[1;33m==\u001b[0m \u001b[1;34m'plot'\u001b[0m\u001b[1;33m:\u001b[0m\u001b[1;33m\u001b[0m\u001b[1;33m\u001b[0m\u001b[0m\n",
      "\u001b[1;32mC:\\ProgramData\\Anaconda3\\lib\\site-packages\\matplotlib\\axes\\_base.py\u001b[0m in \u001b[0;36m_xy_from_xy\u001b[1;34m(self, x, y)\u001b[0m\n\u001b[0;32m    229\u001b[0m         \u001b[1;32mif\u001b[0m \u001b[0mx\u001b[0m\u001b[1;33m.\u001b[0m\u001b[0mshape\u001b[0m\u001b[1;33m[\u001b[0m\u001b[1;36m0\u001b[0m\u001b[1;33m]\u001b[0m \u001b[1;33m!=\u001b[0m \u001b[0my\u001b[0m\u001b[1;33m.\u001b[0m\u001b[0mshape\u001b[0m\u001b[1;33m[\u001b[0m\u001b[1;36m0\u001b[0m\u001b[1;33m]\u001b[0m\u001b[1;33m:\u001b[0m\u001b[1;33m\u001b[0m\u001b[1;33m\u001b[0m\u001b[0m\n\u001b[0;32m    230\u001b[0m             raise ValueError(\"x and y must have same first dimension, but \"\n\u001b[1;32m--> 231\u001b[1;33m                              \"have shapes {} and {}\".format(x.shape, y.shape))\n\u001b[0m\u001b[0;32m    232\u001b[0m         \u001b[1;32mif\u001b[0m \u001b[0mx\u001b[0m\u001b[1;33m.\u001b[0m\u001b[0mndim\u001b[0m \u001b[1;33m>\u001b[0m \u001b[1;36m2\u001b[0m \u001b[1;32mor\u001b[0m \u001b[0my\u001b[0m\u001b[1;33m.\u001b[0m\u001b[0mndim\u001b[0m \u001b[1;33m>\u001b[0m \u001b[1;36m2\u001b[0m\u001b[1;33m:\u001b[0m\u001b[1;33m\u001b[0m\u001b[1;33m\u001b[0m\u001b[0m\n\u001b[0;32m    233\u001b[0m             raise ValueError(\"x and y can be no greater than 2-D, but have \"\n",
      "\u001b[1;31mValueError\u001b[0m: x and y must have same first dimension, but have shapes (256,) and (34,)"
     ]
    },
    {
     "data": {
      "image/png": "[encoded data removed]",
      "text/plain": [
       "<Figure size 432x288 with 1 Axes>"
      ]
     },
     "metadata": {
      "needs_background": "light"
     },
     "output_type": "display_data"
    }
   ],
   "source": [
    "#przygotujemy dane\n",
    "t=range(256)\n",
    "data1,data2,data3=[],[],[]\n",
    "for i in range(0,len(dane)):\n",
    "    data1.append(dane[i][9])\n",
    "    data2.append(dane[i][10])\n",
    "    data3.append(dane[i][11])\n",
    "\n",
    "fig, ax1 = plt.subplots()\n",
    "\n",
    "color = 'tab:red'\n",
    "ax1.set_xlabel('lata')\n",
    "ax1.set_ylabel('ilosc kin', color=color)\n",
    "ax1.plot(t, data1, color=color)\n",
    "ax1.tick_params(axis='y', labelcolor=color)\n",
    "\n",
    "ax2 = ax1.twinx()  # instantiate a second axes that shares the same x-axis\n",
    "\n",
    "color = 'tab:green'\n",
    "ax2.set_ylabel('ilosc sal', color=color)  # we already handled the x-label with ax1\n",
    "ax2.plot(t, data2, color=color)\n",
    "ax2.tick_params(axis='y', labelcolor=color)\n",
    "\n",
    "ax3 = ax2.twinx()  # instantiate a second axes that shares the same x-axis\n",
    "\n",
    "color = 'tab:blue'\n",
    "ax2.set_ylabel('ilosc sal', color=color)  # we already handled the x-label with ax1\n",
    "ax2.plot(t, data3, color=color)\n",
    "ax2.tick_params(axis='y', labelcolor=color)\n",
    "\n",
    "\n",
    "plt.title(\"Ilość sal w kinach w Polsce w poszczególnych latach\")\n",
    "fig.tight_layout()  # otherwise the right y-label is slightly clipped\n",
    "plt.show()"
   ]
  },
  {
   "cell_type": "code",
   "execution_count": null,
   "metadata": {},
   "outputs": [],
   "source": []
  }
 ],
 "metadata": {
  "kernelspec": {
   "display_name": "Python 3",
   "language": "python",
   "name": "python3"
  },
  "language_info": {
   "codemirror_mode": {
    "name": "ipython",
    "version": 3
   },
   "file_extension": ".py",
   "mimetype": "text/x-python",
   "name": "python",
   "nbconvert_exporter": "python",
   "pygments_lexer": "ipython3",
   "version": "3.7.1"
  }
 },
 "nbformat": 4,
 "nbformat_minor": 2
}
