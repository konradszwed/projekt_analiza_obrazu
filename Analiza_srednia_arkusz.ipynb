{
 "cells": [
  {
   "cell_type": "code",
   "execution_count": 53,
   "metadata": {},
   "outputs": [],
   "source": [
    "#Konrad Szwed projekt 0.1\n",
    "\n",
    "#Bibliografia:\n",
    "#https://dzone.com/articles/image-data-analysis-using-numpy-amp-opencv\n"
   ]
  },
  {
   "cell_type": "code",
   "execution_count": 63,
   "metadata": {},
   "outputs": [],
   "source": [
    "import glob\n",
    "import os\n",
    "import numpy as np\n",
    "import imageio\n",
    "import matplotlib.pyplot as plt\n",
    "%matplotlib inline\n",
    "import datetime\n",
    "import csv\n",
    "import timeit\n",
    "from scipy.stats import norm\n"
   ]
  },
  {
   "cell_type": "code",
   "execution_count": 3,
   "metadata": {},
   "outputs": [],
   "source": [
    "from time import perf_counter\n",
    "from functools import wraps\n",
    "def mierz_czas(f):\n",
    "    @wraps(f)\n",
    "    def opakowanie(*args, **kwargs):\n",
    "        #print('Czas wykonywania ', f.__name__, ' = ')\n",
    "        start = perf_counter()\n",
    "        stop = perf_counter()\n",
    "        opakowanie.czas=stop-start\n",
    "        return f(*args, **kwargs)\n",
    "    return opakowanie"
   ]
  },
  {
   "cell_type": "code",
   "execution_count": 4,
   "metadata": {},
   "outputs": [],
   "source": [
    "#ŚCIEŻKI DOSTĘPU\n",
    "#WPISZ SCIEZKE DO FOLDERU W KTORYM ZBADAMY PLIKI GRAFICZNE (zostaw to r''' i ''' na końcu)\n",
    "#domyślnie: \\Users\\rooni\\Desktop\\projekt_analiza_obrazu\\baza\n",
    "#########################################################################\n",
    "user_path=r'''C:\\Users\\rooni\\Desktop\\PHOTOSHOP'''\n",
    "#user_path=r'''D:\\Lelz'''\n",
    "\n",
    "#########################################################################\n",
    "stats_path=r'''C:\\Users\\rooni\\Desktop\\projekt_analiza_obrazu\\stats'''\n",
    "#stats_path=r'''C:\\Users\\KSzwed\\repositories\\projekt_analiza_obrazu\\stats'''"
   ]
  },
  {
   "cell_type": "code",
   "execution_count": 5,
   "metadata": {},
   "outputs": [
    {
     "name": "stdout",
     "output_type": "stream",
     "text": [
      "W folderze jest : 72 plikow\n",
      "W tym : 34 plików jpg\n"
     ]
    }
   ],
   "source": [
    "#pobieranie stricte obrazow z folderu\n",
    "path, dirs, files = next(os.walk(user_path))\n",
    "\n",
    "print(\"W folderze jest :\", len(files) ,\"plikow\")\n",
    "files = [ fi for fi in files if fi.endswith(\".jpg\") ]\n",
    "file_count = len(files)\n",
    "print(\"W tym :\", len(files) ,\"plików jpg\")"
   ]
  },
  {
   "cell_type": "code",
   "execution_count": 6,
   "metadata": {},
   "outputs": [],
   "source": [
    "#test konkretnego pliku\n",
    "get_ipython().run_line_magic('matplotlib', 'inline')\n",
    "@mierz_czas\n",
    "def test_img(file):\n",
    "    pic = imageio.imread(file)\n",
    "    plt.figure(figsize = (15,15))\n",
    "    plt.imshow(pic)\n",
    "\n",
    "    print('Type of the image: ' , type(pic))\n",
    "    print('Shape of the image: {}'.format(pic.shape))\n",
    "    print(f'Image Hight: {pic.shape[0]} pixels')\n",
    "    print(f'Image Width: {pic.shape[1]} pixels')\n",
    "    print('Dimension of Image: {}'.format(pic.ndim))\n",
    "    print('Image size: {}'.format(pic.size))\n",
    "    print('Maximum RGB value in this image: {}'.format(pic.max()))\n",
    "    print('Minimum RGB value in this image: {}'.format(pic.min()))\n",
    "    try:\n",
    "        print('Value of only R channel: {}'.format(pic[ 100, 50, 0]))\n",
    "        print('Value of only G channel: {}'.format(pic[ 100, 50, 1]))\n",
    "        print('Value of only B channel: {}'.format(pic[ 100, 50, 2]))\n",
    "    except IndexError:\n",
    "        print(\"RGB canals error\")"
   ]
  },
  {
   "cell_type": "code",
   "execution_count": 7,
   "metadata": {},
   "outputs": [],
   "source": [
    "@mierz_czas\n",
    "def imgstats(file):\n",
    "    pic = imageio.imread(file)\n",
    "    img_stats=[]\n",
    "    global i\n",
    "    img_stats.append(i)\n",
    "    img_stats.append(file)\n",
    "    img_stats.append(type(pic))\n",
    "    img_stats.append(pic.shape[0])\n",
    "    img_stats.append(pic.shape[1])\n",
    "    img_stats.append(pic.ndim)\n",
    "    img_stats.append(pic.size)\n",
    "    img_stats.append(pic.max())\n",
    "    img_stats.append(pic.min())\n",
    "    try:\n",
    "        img_stats.append(pic[100, 50, 0])\n",
    "        img_stats.append(pic[ 100, 50, 1])\n",
    "        img_stats.append(pic[ 100, 50, 2])\n",
    "    except IndexError:\n",
    "        img_stats.append(0)\n",
    "        img_stats.append(0)\n",
    "        img_stats.append(0)\n",
    "    return img_stats"
   ]
  },
  {
   "cell_type": "code",
   "execution_count": 8,
   "metadata": {},
   "outputs": [],
   "source": [
    "Titles=['Index','File name','Type of the image','Image Height','Image Width','Dimension of Image','Image size','Maximum RGB','Minimum RGB','R channel','G channel','B channel','Baza wygenerowana przez Konrad Szwed dnia {} | Zawiera {} elementow'.format(datetime.datetime.today(),file_count)]"
   ]
  },
  {
   "cell_type": "code",
   "execution_count": 9,
   "metadata": {},
   "outputs": [],
   "source": [
    "#test w razie problemow z konkretnym plikiem\n",
    "#file=user_path+'\\{}'.format(files[10])\n",
    "#test_img(file)"
   ]
  },
  {
   "cell_type": "code",
   "execution_count": 10,
   "metadata": {},
   "outputs": [],
   "source": [
    "#Sprawdzenie poprzedniego pliku ze statystykami\n",
    "#path_oldstat='./stats/'\n",
    "path_oldstat=stats_path\n",
    "if os.path.isfile(path_oldstat+'stats.csv') :\n",
    "    if os.path.isfile(path_oldstat+'old_stats.csv') :    \n",
    "        os.unlink(path_oldstat+'old_stats.csv')\n",
    "    os.rename(path_oldstat+'stats.csv', path_oldstat+'old_stats.csv')\n",
    "    print('Utworzono backup poprzedniej bazy danych w folderze {},pod nazwą {}'.format(path_oldstat, os.listdir(path_oldstat)))\n",
    "    \n",
    "#Tworzenie csv\n",
    "with open(stats_path+'\\stats.csv', 'w') as csvfile:\n",
    "    filewriter = csv.writer(csvfile, delimiter=',',\n",
    "                            quotechar=' ', quoting=csv.QUOTE_MINIMAL)\n",
    "    filewriter.writerow(Titles)\n",
    "    #file_count ale do testow ustawcie mniejsza liczbe\n",
    "    for i in range(file_count):\n",
    "        file=user_path+'\\{}'.format(files[i])\n",
    "        filewriter.writerow(imgstats(file))\n",
    "        \n",
    "#print(imgstats('baza\\{}'.format(files[0])))"
   ]
  },
  {
   "cell_type": "code",
   "execution_count": 11,
   "metadata": {},
   "outputs": [],
   "source": [
    "def wyswietl(stats):\n",
    "    return('Image Height:{:.2f}\\n Image Width:{:.2f}\\n Dimension of Image:{:.2f}\\n Image size:{:.2f}Mb\\n Maximum RGB:{:.2f}\\n Minimum RGB:{:.2f}\\n R channel:{:.2f}\\n G channel:{:.2f}\\n B channel:{:.2f}'.format(stats[0],stats[1],stats[2],stats[3]*pow(10,-6),stats[4],stats[5],stats[6],stats[7],stats[8]))"
   ]
  },
  {
   "cell_type": "code",
   "execution_count": 14,
   "metadata": {},
   "outputs": [],
   "source": [
    "#dokonczyc srednia\n",
    "def srednia(stats):\n",
    "    avg=[]\n",
    "    return avg"
   ]
  },
  {
   "cell_type": "code",
   "execution_count": 15,
   "metadata": {},
   "outputs": [],
   "source": [
    "#tworzymy dane\n",
    "dane=[]\n",
    "for i in range(file_count):\n",
    "    file=user_path+'\\{}'.format(files[i])\n",
    "    dane.append(imgstats(file))\n",
    "#print(dane)"
   ]
  },
  {
   "cell_type": "code",
   "execution_count": 16,
   "metadata": {},
   "outputs": [
    {
     "name": "stdout",
     "output_type": "stream",
     "text": [
      "Wyniki średnie:\n",
      "Image Height:1616.68\n",
      " Image Width:1449.53\n",
      " Dimension of Image:3.00\n",
      " Image size:10.74Mb\n",
      " Maximum RGB:252.82\n",
      " Minimum RGB:1.18\n",
      " R channel:117.21\n",
      " G channel:112.24\n",
      " B channel:104.97\n"
     ]
    }
   ],
   "source": [
    "#Statystyki uśrednione\n",
    "avg=[0,0,0,0,0,0,0,0,0]\n",
    "\n",
    "for i in range(0,len(dane)):\n",
    "    for x in range(3,12):\n",
    "        #print(dane[i][x])\n",
    "        avg[x-3]+=dane[i][x]\n",
    "for i in range(0,len(avg)):\n",
    "    avg[i]=avg[i]/len(dane)\n",
    "\n",
    "#print (avg)\n",
    "#for i in range(9):\n",
    "#    stats[i]=stats[i]/file_count\n",
    "#print(stats)    \n",
    "print(\"Wyniki średnie:\")    \n",
    "print(wyswietl(avg))\n"
   ]
  },
  {
   "cell_type": "code",
   "execution_count": null,
   "metadata": {},
   "outputs": [],
   "source": []
  },
  {
   "cell_type": "code",
   "execution_count": 17,
   "metadata": {},
   "outputs": [
    {
     "name": "stdout",
     "output_type": "stream",
     "text": [
      "wykres średnia z RGB channels\n"
     ]
    },
    {
     "data": {
      "image/png": "[encoded data removed]",
      "text/plain": [
       "<Figure size 432x288 with 1 Axes>"
      ]
     },
     "metadata": {
      "needs_background": "light"
     },
     "output_type": "display_data"
    }
   ],
   "source": [
    "#wykresy\n",
    "print(\"wykres średnia z RGB channels\")\n",
    "y = [avg[6],avg[7],avg[8]]\n",
    "plt.plot(y)\n",
    "plt.show()\n"
   ]
  },
  {
   "cell_type": "code",
   "execution_count": 18,
   "metadata": {},
   "outputs": [
    {
     "name": "stdout",
     "output_type": "stream",
     "text": [
      "Czasy poszczególnych funkcji:\n",
      "srednia : \n",
      "imgstats : \n",
      "test_img : \n"
     ]
    }
   ],
   "source": [
    "#Czasy funkcji\n",
    "print(\"Czasy poszczególnych funkcji:\")\n",
    "funkcje = [srednia,imgstats,test_img]\n",
    "for i in funkcje:\n",
    "    #print(\"{} : {}\".format(i.__name__,i.czas))\n",
    "    print(\"{} : \".format(i.__name__))"
   ]
  },
  {
   "cell_type": "markdown",
   "metadata": {},
   "source": [
    "#przygotujemy dane\n",
    "t=[i for i in range(256)]\n",
    "data1,data2,data3=[],[],[]\n",
    "for i in range(0,len(dane)):\n",
    "    data1.append(dane[i][9])\n",
    "    data2.append(dane[i][10])\n",
    "    data3.append(dane[i][11])\n",
    "    \n",
    "print(t)\n",
    "print(data2)\n",
    "print(data3)\n",
    "\n",
    "fig, ax1 = plt.subplots()\n",
    "\n",
    "color = 'tab:red'\n",
    "ax1.set_xlabel('lata')\n",
    "ax1.set_ylabel('ilosc kin', color=color)\n",
    "ax1.plot(t, data1, color=color)\n",
    "ax1.tick_params(axis='y', labelcolor=color)\n",
    "\n",
    "ax2 = ax1.twinx()  # instantiate a second axes that shares the same x-axis\n",
    "\n",
    "color = 'tab:green'\n",
    "ax2.set_ylabel('ilosc sal', color=color)  # we already handled the x-label with ax1\n",
    "ax2.plot(t, data2, color=color)\n",
    "ax2.tick_params(axis='y', labelcolor=color)\n",
    "\n",
    "\n",
    "plt.title(\"Ilość sal w kinach w Polsce w poszczególnych latach\")\n",
    "fig.tight_layout()  # otherwise the right y-label is slightly clipped\n",
    "plt.show()"
   ]
  },
  {
   "cell_type": "code",
   "execution_count": 75,
   "metadata": {},
   "outputs": [
    {
     "data": {
      "image/png": "[encoded data removed]",
      "text/plain": [
       "<Figure size 432x288 with 1 Axes>"
      ]
     },
     "metadata": {
      "needs_background": "light"
     },
     "output_type": "display_data"
    }
   ],
   "source": [
    "# create a figure and axis \n",
    "fig, ax = plt.subplots() \n",
    "\n",
    "t=[i for i in range(256)]\n",
    "data1,data2,data3=[],[],[]\n",
    "for i in range(0,len(dane)):\n",
    "    data1.append(dane[i][9])\n",
    "    data2.append(dane[i][10])\n",
    "    data3.append(dane[i][11])\n",
    "\n",
    "num_bins = 64 #ilosc slupkow    \n",
    "# the histogram of the data\n",
    "n, bins, patches = ax.hist(data1, num_bins, density=1, color='red',alpha = 0.6)\n",
    "ax.hist(data2, num_bins, density=1, color='green',alpha = 0.5)\n",
    "ax.hist(data3, num_bins, density=1, color='blue',alpha = 0.4)\n",
    "\n",
    "# add a 'best fit' line red\n",
    "(mu, sigma) = norm.fit(data1)\n",
    "y = ((1 / (np.sqrt(2 * np.pi) * sigma)) *\n",
    "     np.exp(-0.5 * (1 / sigma * (bins - mu))**2))\n",
    "ax.plot(bins, y, '--', color=\"red\")    \n",
    "\n",
    "# add a 'best fit' line red\n",
    "(mu, sigma) = norm.fit(data2)\n",
    "y = ((1 / (np.sqrt(2 * np.pi) * sigma)) *\n",
    "     np.exp(-0.5 * (1 / sigma * (bins - mu))**2))\n",
    "ax.plot(bins, y, '.', color=\"green\")    \n",
    "\n",
    "# add a 'best fit' line red\n",
    "(mu, sigma) = norm.fit(data3)\n",
    "y = ((1 / (np.sqrt(2 * np.pi) * sigma)) *\n",
    "     np.exp(-0.5 * (1 / sigma * (bins - mu))**2))\n",
    "ax.plot(bins, y, '*', color=\"blue\")    \n",
    "\n",
    "ax.set_xlabel('wartość RGB')\n",
    "ax.set_ylabel('Ilość wystąpień')\n",
    "ax.set_title(r'Histogram wystąpień RGB')\n",
    "\n",
    "#zapis grafu\n",
    "plt.savefig('rgbavg.png')\n",
    "\n",
    "# Tweak spacing to prevent clipping of ylabel\n",
    "fig.tight_layout()\n",
    "plt.show()\n",
    "\n"
   ]
  },
  {
   "cell_type": "code",
   "execution_count": null,
   "metadata": {},
   "outputs": [],
   "source": []
  }
 ],
 "metadata": {
  "kernelspec": {
   "display_name": "Python 3",
   "language": "python",
   "name": "python3"
  },
  "language_info": {
   "codemirror_mode": {
    "name": "ipython",
    "version": 3
   },
   "file_extension": ".py",
   "mimetype": "text/x-python",
   "name": "python",
   "nbconvert_exporter": "python",
   "pygments_lexer": "ipython3",
   "version": "3.7.1"
  }
 },
 "nbformat": 4,
 "nbformat_minor": 2
}
