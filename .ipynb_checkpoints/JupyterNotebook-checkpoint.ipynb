{
 "cells": [
  {
   "cell_type": "code",
   "execution_count": 160,
   "metadata": {},
   "outputs": [],
   "source": [
    "#Konrad Szwed projekt 0.1\n",
    "\n",
    "#Bibliografia:\n",
    "#https://dzone.com/articles/image-data-analysis-using-numpy-amp-opencv\n"
   ]
  },
  {
   "cell_type": "code",
   "execution_count": 30,
   "metadata": {},
   "outputs": [],
   "source": [
    "import glob\n",
    "import os\n",
    "import numpy as np\n",
    "import imageio\n",
    "import matplotlib.pyplot as plt\n",
    "%matplotlib inline\n",
    "import datetime\n",
    "import csv"
   ]
  },
  {
   "cell_type": "code",
   "execution_count": 31,
   "metadata": {},
   "outputs": [],
   "source": [
    "#ŚCIEŻKI DOSTĘPU\n",
    "#WPISZ SCIEZKE DO FOLDERU W KTORYM ZBADAMY PLIKI GRAFICZNE (zostaw to r''' i ''' na końcu)\n",
    "#domyślnie: \\Users\\rooni\\Desktop\\projekt_analiza_obrazu\\baza\n",
    "#########################################################################\n",
    "#user_path=r'''C:\\Users\\rooni\\Desktop\\PHOTOSHOP'''\n",
    "user_path=r'''D:\\Lelz'''\n",
    "\n",
    "#########################################################################\n",
    "#stats_path=r'''C:\\Users\\rooni\\Desktop\\projekt_analiza_obrazu\\stats'''\n",
    "stats_path=r'''C:\\Users\\KSzwed\\repositories\\projekt_analiza_obrazu\\stats'''"
   ]
  },
  {
   "cell_type": "code",
   "execution_count": 32,
   "metadata": {},
   "outputs": [
    {
     "name": "stdout",
     "output_type": "stream",
     "text": [
      "W folderze jest : 330 plikow\n",
      "W tym : 110 plików jpg\n"
     ]
    }
   ],
   "source": [
    "#pobieranie stricte obrazow z folderu\n",
    "path, dirs, files = next(os.walk(user_path))\n",
    "\n",
    "print(\"W folderze jest :\", len(files) ,\"plikow\")\n",
    "files = [ fi for fi in files if fi.endswith(\".jpg\") ]\n",
    "file_count = len(files)\n",
    "print(\"W tym :\", len(files) ,\"plików jpg\")"
   ]
  },
  {
   "cell_type": "code",
   "execution_count": 46,
   "metadata": {},
   "outputs": [],
   "source": [
    "#test konkretnego pliku\n",
    "get_ipython().run_line_magic('matplotlib', 'inline')\n",
    "\n",
    "def test_img(file):\n",
    "    pic = imageio.imread(file)\n",
    "    plt.figure(figsize = (15,15))\n",
    "    plt.imshow(pic)\n",
    "\n",
    "    print('Type of the image: ' , type(pic))\n",
    "    print('Shape of the image: {}'.format(pic.shape))\n",
    "    print(f'Image Hight: {pic.shape[0]} pixels')\n",
    "    print(f'Image Width: {pic.shape[1]} pixels')\n",
    "    print('Dimension of Image: {}'.format(pic.ndim))\n",
    "    print('Image size: {}'.format(pic.size))\n",
    "    print('Maximum RGB value in this image: {}'.format(pic.max()))\n",
    "    print('Minimum RGB value in this image: {}'.format(pic.min()))\n",
    "    try:\n",
    "        print('Value of only R channel: {}'.format(pic[ 100, 50, 0]))\n",
    "        print('Value of only G channel: {}'.format(pic[ 100, 50, 1]))\n",
    "        print('Value of only B channel: {}'.format(pic[ 100, 50, 2]))\n",
    "    except IndexError:\n",
    "        print(\"RGB canals error\")"
   ]
  },
  {
   "cell_type": "code",
   "execution_count": 52,
   "metadata": {},
   "outputs": [],
   "source": [
    "def imgstats(file):\n",
    "    pic = imageio.imread(file)\n",
    "    img_stats=[]\n",
    "    global i\n",
    "    img_stats.append(i)\n",
    "    img_stats.append(file)\n",
    "    img_stats.append(type(pic))\n",
    "    img_stats.append(pic.shape[0])\n",
    "    img_stats.append(pic.shape[1])\n",
    "    img_stats.append(pic.ndim)\n",
    "    img_stats.append(pic.size)\n",
    "    img_stats.append(pic.max())\n",
    "    img_stats.append(pic.min())\n",
    "    try:\n",
    "        img_stats.append(pic[100, 50, 0])\n",
    "        img_stats.append(pic[ 100, 50, 1])\n",
    "        img_stats.append(pic[ 100, 50, 2])\n",
    "    except IndexError:\n",
    "        img_stats.append(0)\n",
    "        img_stats.append(0)\n",
    "        img_stats.append(0)\n",
    "    return img_stats"
   ]
  },
  {
   "cell_type": "code",
   "execution_count": 53,
   "metadata": {},
   "outputs": [],
   "source": [
    "Titles=['Index','File name','Type of the image','Image Height','Image Width','Dimension of Image','Image size','Maximum RGB','Minimum RGB','R channel','G channel','B channel','Baza wygenerowana przez Konrad Szwed dnia {} | Zawiera {} elementow'.format(datetime.datetime.today(),file_count)]"
   ]
  },
  {
   "cell_type": "code",
   "execution_count": 59,
   "metadata": {},
   "outputs": [],
   "source": [
    "#test w razie problemow z konkretnym plikiem\n",
    "#file=user_path+'\\{}'.format(files[10])\n",
    "#test_img(file)"
   ]
  },
  {
   "cell_type": "code",
   "execution_count": 61,
   "metadata": {},
   "outputs": [],
   "source": [
    "#Sprawdzenie poprzedniego pliku ze statystykami\n",
    "#path_oldstat='./stats/'\n",
    "path_oldstat=stats_path\n",
    "if os.path.isfile(path_oldstat+'stats.csv') :\n",
    "    if os.path.isfile(path_oldstat+'old_stats.csv') :    \n",
    "        os.unlink(path_oldstat+'old_stats.csv')\n",
    "    os.rename(path_oldstat+'stats.csv', path_oldstat+'old_stats.csv')\n",
    "    print('Utworzono backup poprzedniej bazy danych w folderze {},pod nazwą {}'.format(path_oldstat, os.listdir(path_oldstat)))\n",
    "    \n",
    "#Tworzenie csv\n",
    "with open(stats_path+'\\stats.csv', 'w') as csvfile:\n",
    "    filewriter = csv.writer(csvfile, delimiter=',',\n",
    "                            quotechar=' ', quoting=csv.QUOTE_MINIMAL)\n",
    "    filewriter.writerow(Titles)\n",
    "    #file_count ale do testow ustawcie mniejsza liczbe\n",
    "    for i in range(file_count):\n",
    "        file=user_path+'\\{}'.format(files[i])\n",
    "        filewriter.writerow(imgstats(file))\n",
    "        \n",
    "#print(imgstats('baza\\{}'.format(files[0])))"
   ]
  },
  {
   "cell_type": "code",
   "execution_count": 75,
   "metadata": {},
   "outputs": [],
   "source": [
    "def srednia(stats):\n",
    "    return('Image Height:{:.2f}\\n Image Width:{:.2f}\\n Dimension of Image:{:.2f}\\n Image size:{:.2f}Mb\\n Maximum RGB:{:.2f}\\n Minimum RGB:{:.2f}\\n R channel:{:.2f}\\n G channel:{:.2f}\\n B channel:{:.2f}'.format(stats[0],stats[1],stats[2],stats[3]*pow(10,-6),stats[4],stats[5],stats[6],stats[7],stats[8]))"
   ]
  },
  {
   "cell_type": "code",
   "execution_count": 76,
   "metadata": {},
   "outputs": [
    {
     "name": "stdout",
     "output_type": "stream",
     "text": [
      "Wyniki średnie:\n",
      "Image Height:1326.48\n",
      " Image Width:845.14\n",
      " Dimension of Image:2.99\n",
      " Image size:4.62Mb\n",
      " Maximum RGB:254.63\n",
      " Minimum RGB:0.26\n",
      " R channel:133.34\n",
      " G channel:128.09\n",
      " B channel:123.37\n"
     ]
    }
   ],
   "source": [
    "#Statystyki uśrednione\n",
    "stats=[]\n",
    "for i in range(9):\n",
    "    stats.append(0)\n",
    "for i in range(file_count):\n",
    "    file=user_path+'\\{}'.format(files[i])\n",
    "    stats2=imgstats(file)  \n",
    "    for n in range(9):\n",
    "        stats[n]+=stats2[n+3]\n",
    "        \n",
    "for i in range(9):\n",
    "    stats[i]=stats[i]/file_count\n",
    "    \n",
    "print(\"Wyniki średnie:\")    \n",
    "print(srednia(stats))\n"
   ]
  },
  {
   "cell_type": "code",
   "execution_count": 81,
   "metadata": {},
   "outputs": [
    {
     "name": "stdout",
     "output_type": "stream",
     "text": [
      "wykres średnia z RGB channels\n"
     ]
    },
    {
     "data": {
      "image/png": "[encoded data removed]",
      "text/plain": [
       "<Figure size 432x288 with 1 Axes>"
      ]
     },
     "metadata": {
      "needs_background": "light"
     },
     "output_type": "display_data"
    }
   ],
   "source": [
    "#wykresy\n",
    "print(\"wykres średnia z RGB channels\")\n",
    "y = [stats[6],stats[7],stats[8]]\n",
    "plt.plot(y)\n",
    "plt.show()\n"
   ]
  },
  {
   "cell_type": "code",
   "execution_count": 64,
   "metadata": {},
   "outputs": [
    {
     "name": "stdout",
     "output_type": "stream",
     "text": [
      "elo\n"
     ]
    },
    {
     "data": {
      "text/plain": [
       "'elo'"
      ]
     },
     "execution_count": 64,
     "metadata": {},
     "output_type": "execute_result"
    }
   ],
   "source": [
    "input()"
   ]
  }
 ],
 "metadata": {
  "kernelspec": {
   "display_name": "Python 3",
   "language": "python",
   "name": "python3"
  },
  "language_info": {
   "codemirror_mode": {
    "name": "ipython",
    "version": 3
   },
   "file_extension": ".py",
   "mimetype": "text/x-python",
   "name": "python",
   "nbconvert_exporter": "python",
   "pygments_lexer": "ipython3",
   "version": "3.7.1"
  }
 },
 "nbformat": 4,
 "nbformat_minor": 2
}
